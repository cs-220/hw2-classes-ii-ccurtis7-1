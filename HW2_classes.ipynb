{
 "cells": [
  {
   "cell_type": "markdown",
   "metadata": {},
   "source": [
    "# Problem 1: Put a smile on that face\n",
    "\n",
    "A simple class that draws a (grim) face in a graphics window is given below. Add methods to this class that cause the face to change expression. For example you might add methods such as `smile`, `wink`, `frown`, `flinch`, etc. Your class should implement at least three such methods.\n",
    "\n",
    "Use your class to write a program that draws a face and provides the user with buttons to change the facial expression."
   ]
  },
  {
   "cell_type": "code",
   "execution_count": null,
   "metadata": {},
   "outputs": [],
   "source": []
  },
  {
   "cell_type": "markdown",
   "metadata": {},
   "source": [
    "# Problem 2: Draw a hand\n",
    "\n",
    "**Part a**\n",
    "\n",
    "Implement a class to represent a playing card. Your class should have the following methods:\n",
    "\n",
    "* \\_\\_init__(self, rank, suit) `rank` is an int in the range 1-13 indicating the ranks ace-king, and `suit` is a single character \"d\", \"c\", \"h\", or \"s\" indicating the suit (diamonds, clubs, hearts, or spades). Create a corresponding card.\n",
    "* getRank(self) Returns the rank of the card\n",
    "* getSuit(self) Returns the suit of the card\n",
    "* value(self) Returns the Blackjack value of a card. Ace counts as 1, face cards count as 10\n",
    "* \\_\\_str__(self) Returns a string that names the card. For example, \"Ace of Spades\"\n",
    "\n",
    "Test your card class with a program that prints out 5 randomly drawn cards from a standard 52-card deck and the associated Blackjack value where n is a number supplied by the user. Note that this must be done **without replacement** e.g. you can't draw two aces of spades.\n",
    "\n",
    "**Part b**\n",
    "\n",
    "Make a visual version of the code made in **Part a**. You will need to draw 5 cards from a 52-card deck and display them on the screen. Make sure to include the rank, symbols for the suits, and red/black coloring. You should also include buttons to redraw your hand as well as to exit the program. \n"
   ]
  },
  {
   "cell_type": "code",
   "execution_count": null,
   "metadata": {},
   "outputs": [],
   "source": []
  }
 ],
 "metadata": {
  "kernelspec": {
   "display_name": "Python 3 (ipykernel)",
   "language": "python",
   "name": "python3"
  },
  "language_info": {
   "codemirror_mode": {
    "name": "ipython",
    "version": 3
   },
   "file_extension": ".py",
   "mimetype": "text/x-python",
   "name": "python",
   "nbconvert_exporter": "python",
   "pygments_lexer": "ipython3",
   "version": "3.8.8"
  }
 },
 "nbformat": 4,
 "nbformat_minor": 4
}
